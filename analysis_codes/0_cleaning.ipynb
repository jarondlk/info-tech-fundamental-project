{
 "cells": [
  {
   "cell_type": "code",
   "execution_count": 23,
   "id": "58aea03e",
   "metadata": {},
   "outputs": [],
   "source": [
    "import os\n",
    "import pandas as pd\n",
    "import matplotlib.pyplot as plt"
   ]
  },
  {
   "cell_type": "code",
   "execution_count": 12,
   "id": "c556500c",
   "metadata": {},
   "outputs": [],
   "source": [
    "dir = '2014'\n",
    "data = []\n",
    "\n",
    "# iterate through items in dir\n",
    "for folder_name in os.listdir(dir):\n",
    "    folder_path = os.path.join(dir, folder_name)\n",
    "    if os.path.isdir(folder_path):\n",
    "        num_files = sum(os.path.isfile(os.path.join(folder_path, f)) for f in os.listdir(folder_path))\n",
    "        data.append({'folder': folder_name, 'file_count': num_files})\n",
    "\n",
    "df = pd.DataFrame(data)"
   ]
  },
  {
   "cell_type": "code",
   "execution_count": 20,
   "id": "26e128ec",
   "metadata": {},
   "outputs": [
    {
     "data": {
      "application/vnd.microsoft.datawrangler.viewer.v0+json": {
       "columns": [
        {
         "name": "index",
         "rawType": "int64",
         "type": "integer"
        },
        {
         "name": "folder",
         "rawType": "object",
         "type": "string"
        },
        {
         "name": "file_count",
         "rawType": "int64",
         "type": "integer"
        }
       ],
       "conversionMethod": "pd.DataFrame",
       "ref": "d8c1a45c-2b2a-40b5-a04c-07af18efbfea",
       "rows": [
        [
         "44",
         "mix",
         "266156"
        ],
        [
         "5",
         "detritus",
         "36346"
        ],
        [
         "29",
         "Leptocylindrus",
         "4246"
        ],
        [
         "92",
         "dino30",
         "3816"
        ],
        [
         "87",
         "mix_elongated",
         "3528"
        ],
        [
         "77",
         "Cylindrotheca",
         "2345"
        ],
        [
         "55",
         "Rhizosolenia",
         "2199"
        ],
        [
         "90",
         "Chaetoceros",
         "1871"
        ],
        [
         "62",
         "Ciliate_mix",
         "1074"
        ],
        [
         "51",
         "Guinardia_delicatula",
         "949"
        ],
        [
         "6",
         "Thalassiosira",
         "664"
        ],
        [
         "68",
         "Dinobryon",
         "588"
        ],
        [
         "64",
         "Pseudonitzschia",
         "578"
        ],
        [
         "58",
         "Dactyliosolen",
         "532"
        ],
        [
         "49",
         "Corethron",
         "447"
        ],
        [
         "43",
         "Guinardia_striata",
         "447"
        ],
        [
         "61",
         "Cerataulina",
         "412"
        ],
        [
         "17",
         "Skeletonema",
         "342"
        ],
        [
         "54",
         "pennate",
         "330"
        ],
        [
         "102",
         "Ditylum",
         "217"
        ],
        [
         "50",
         "other_interaction",
         "211"
        ],
        [
         "38",
         "Thalassiosira_dirty",
         "190"
        ],
        [
         "71",
         "flagellate_sp3",
         "177"
        ],
        [
         "24",
         "DactFragCerataul",
         "175"
        ],
        [
         "47",
         "Prorocentrum",
         "168"
        ]
       ],
       "shape": {
        "columns": 2,
        "rows": 25
       }
      },
      "text/html": [
       "<div>\n",
       "<style scoped>\n",
       "    .dataframe tbody tr th:only-of-type {\n",
       "        vertical-align: middle;\n",
       "    }\n",
       "\n",
       "    .dataframe tbody tr th {\n",
       "        vertical-align: top;\n",
       "    }\n",
       "\n",
       "    .dataframe thead th {\n",
       "        text-align: right;\n",
       "    }\n",
       "</style>\n",
       "<table border=\"1\" class=\"dataframe\">\n",
       "  <thead>\n",
       "    <tr style=\"text-align: right;\">\n",
       "      <th></th>\n",
       "      <th>folder</th>\n",
       "      <th>file_count</th>\n",
       "    </tr>\n",
       "  </thead>\n",
       "  <tbody>\n",
       "    <tr>\n",
       "      <th>44</th>\n",
       "      <td>mix</td>\n",
       "      <td>266156</td>\n",
       "    </tr>\n",
       "    <tr>\n",
       "      <th>5</th>\n",
       "      <td>detritus</td>\n",
       "      <td>36346</td>\n",
       "    </tr>\n",
       "    <tr>\n",
       "      <th>29</th>\n",
       "      <td>Leptocylindrus</td>\n",
       "      <td>4246</td>\n",
       "    </tr>\n",
       "    <tr>\n",
       "      <th>92</th>\n",
       "      <td>dino30</td>\n",
       "      <td>3816</td>\n",
       "    </tr>\n",
       "    <tr>\n",
       "      <th>87</th>\n",
       "      <td>mix_elongated</td>\n",
       "      <td>3528</td>\n",
       "    </tr>\n",
       "    <tr>\n",
       "      <th>77</th>\n",
       "      <td>Cylindrotheca</td>\n",
       "      <td>2345</td>\n",
       "    </tr>\n",
       "    <tr>\n",
       "      <th>55</th>\n",
       "      <td>Rhizosolenia</td>\n",
       "      <td>2199</td>\n",
       "    </tr>\n",
       "    <tr>\n",
       "      <th>90</th>\n",
       "      <td>Chaetoceros</td>\n",
       "      <td>1871</td>\n",
       "    </tr>\n",
       "    <tr>\n",
       "      <th>62</th>\n",
       "      <td>Ciliate_mix</td>\n",
       "      <td>1074</td>\n",
       "    </tr>\n",
       "    <tr>\n",
       "      <th>51</th>\n",
       "      <td>Guinardia_delicatula</td>\n",
       "      <td>949</td>\n",
       "    </tr>\n",
       "    <tr>\n",
       "      <th>6</th>\n",
       "      <td>Thalassiosira</td>\n",
       "      <td>664</td>\n",
       "    </tr>\n",
       "    <tr>\n",
       "      <th>68</th>\n",
       "      <td>Dinobryon</td>\n",
       "      <td>588</td>\n",
       "    </tr>\n",
       "    <tr>\n",
       "      <th>64</th>\n",
       "      <td>Pseudonitzschia</td>\n",
       "      <td>578</td>\n",
       "    </tr>\n",
       "    <tr>\n",
       "      <th>58</th>\n",
       "      <td>Dactyliosolen</td>\n",
       "      <td>532</td>\n",
       "    </tr>\n",
       "    <tr>\n",
       "      <th>49</th>\n",
       "      <td>Corethron</td>\n",
       "      <td>447</td>\n",
       "    </tr>\n",
       "    <tr>\n",
       "      <th>43</th>\n",
       "      <td>Guinardia_striata</td>\n",
       "      <td>447</td>\n",
       "    </tr>\n",
       "    <tr>\n",
       "      <th>61</th>\n",
       "      <td>Cerataulina</td>\n",
       "      <td>412</td>\n",
       "    </tr>\n",
       "    <tr>\n",
       "      <th>17</th>\n",
       "      <td>Skeletonema</td>\n",
       "      <td>342</td>\n",
       "    </tr>\n",
       "    <tr>\n",
       "      <th>54</th>\n",
       "      <td>pennate</td>\n",
       "      <td>330</td>\n",
       "    </tr>\n",
       "    <tr>\n",
       "      <th>102</th>\n",
       "      <td>Ditylum</td>\n",
       "      <td>217</td>\n",
       "    </tr>\n",
       "    <tr>\n",
       "      <th>50</th>\n",
       "      <td>other_interaction</td>\n",
       "      <td>211</td>\n",
       "    </tr>\n",
       "    <tr>\n",
       "      <th>38</th>\n",
       "      <td>Thalassiosira_dirty</td>\n",
       "      <td>190</td>\n",
       "    </tr>\n",
       "    <tr>\n",
       "      <th>71</th>\n",
       "      <td>flagellate_sp3</td>\n",
       "      <td>177</td>\n",
       "    </tr>\n",
       "    <tr>\n",
       "      <th>24</th>\n",
       "      <td>DactFragCerataul</td>\n",
       "      <td>175</td>\n",
       "    </tr>\n",
       "    <tr>\n",
       "      <th>47</th>\n",
       "      <td>Prorocentrum</td>\n",
       "      <td>168</td>\n",
       "    </tr>\n",
       "  </tbody>\n",
       "</table>\n",
       "</div>"
      ],
      "text/plain": [
       "                   folder  file_count\n",
       "44                    mix      266156\n",
       "5                detritus       36346\n",
       "29         Leptocylindrus        4246\n",
       "92                 dino30        3816\n",
       "87          mix_elongated        3528\n",
       "77          Cylindrotheca        2345\n",
       "55           Rhizosolenia        2199\n",
       "90            Chaetoceros        1871\n",
       "62            Ciliate_mix        1074\n",
       "51   Guinardia_delicatula         949\n",
       "6           Thalassiosira         664\n",
       "68              Dinobryon         588\n",
       "64        Pseudonitzschia         578\n",
       "58          Dactyliosolen         532\n",
       "49              Corethron         447\n",
       "43      Guinardia_striata         447\n",
       "61            Cerataulina         412\n",
       "17            Skeletonema         342\n",
       "54                pennate         330\n",
       "102               Ditylum         217\n",
       "50      other_interaction         211\n",
       "38    Thalassiosira_dirty         190\n",
       "71         flagellate_sp3         177\n",
       "24       DactFragCerataul         175\n",
       "47           Prorocentrum         168"
      ]
     },
     "execution_count": 20,
     "metadata": {},
     "output_type": "execute_result"
    }
   ],
   "source": [
    "df.sort_values(by='file_count', ascending=False).head(25)"
   ]
  },
  {
   "cell_type": "code",
   "execution_count": 22,
   "id": "4c2ca584",
   "metadata": {},
   "outputs": [
    {
     "data": {
      "application/vnd.microsoft.datawrangler.viewer.v0+json": {
       "columns": [
        {
         "name": "index",
         "rawType": "int64",
         "type": "integer"
        },
        {
         "name": "folder",
         "rawType": "object",
         "type": "string"
        },
        {
         "name": "file_count",
         "rawType": "int64",
         "type": "integer"
        }
       ],
       "conversionMethod": "pd.DataFrame",
       "ref": "e3359c93-2a54-4ae5-bfa7-2ce1afdde44c",
       "rows": [
        [
         "49",
         "Corethron",
         "447"
        ],
        [
         "58",
         "Dactyliosolen",
         "532"
        ],
        [
         "64",
         "Pseudonitzschia",
         "578"
        ],
        [
         "68",
         "Dinobryon",
         "588"
        ]
       ],
       "shape": {
        "columns": 2,
        "rows": 4
       }
      },
      "text/html": [
       "<div>\n",
       "<style scoped>\n",
       "    .dataframe tbody tr th:only-of-type {\n",
       "        vertical-align: middle;\n",
       "    }\n",
       "\n",
       "    .dataframe tbody tr th {\n",
       "        vertical-align: top;\n",
       "    }\n",
       "\n",
       "    .dataframe thead th {\n",
       "        text-align: right;\n",
       "    }\n",
       "</style>\n",
       "<table border=\"1\" class=\"dataframe\">\n",
       "  <thead>\n",
       "    <tr style=\"text-align: right;\">\n",
       "      <th></th>\n",
       "      <th>folder</th>\n",
       "      <th>file_count</th>\n",
       "    </tr>\n",
       "  </thead>\n",
       "  <tbody>\n",
       "    <tr>\n",
       "      <th>49</th>\n",
       "      <td>Corethron</td>\n",
       "      <td>447</td>\n",
       "    </tr>\n",
       "    <tr>\n",
       "      <th>58</th>\n",
       "      <td>Dactyliosolen</td>\n",
       "      <td>532</td>\n",
       "    </tr>\n",
       "    <tr>\n",
       "      <th>64</th>\n",
       "      <td>Pseudonitzschia</td>\n",
       "      <td>578</td>\n",
       "    </tr>\n",
       "    <tr>\n",
       "      <th>68</th>\n",
       "      <td>Dinobryon</td>\n",
       "      <td>588</td>\n",
       "    </tr>\n",
       "  </tbody>\n",
       "</table>\n",
       "</div>"
      ],
      "text/plain": [
       "             folder  file_count\n",
       "49        Corethron         447\n",
       "58    Dactyliosolen         532\n",
       "64  Pseudonitzschia         578\n",
       "68        Dinobryon         588"
      ]
     },
     "execution_count": 22,
     "metadata": {},
     "output_type": "execute_result"
    }
   ],
   "source": [
    "df_selected = df[df['folder'].isin(['Dinobryon', 'Pseudonitzschia', 'Dactyliosolen', 'Corethron'])]\n",
    "df_selected"
   ]
  }
 ],
 "metadata": {
  "kernelspec": {
   "display_name": "it_fundamental",
   "language": "python",
   "name": "python3"
  },
  "language_info": {
   "codemirror_mode": {
    "name": "ipython",
    "version": 3
   },
   "file_extension": ".py",
   "mimetype": "text/x-python",
   "name": "python",
   "nbconvert_exporter": "python",
   "pygments_lexer": "ipython3",
   "version": "3.10.16"
  }
 },
 "nbformat": 4,
 "nbformat_minor": 5
}
